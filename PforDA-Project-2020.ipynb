{
 "cells": [
  {
   "cell_type": "markdown",
   "metadata": {},
   "source": [
    "-----------------\n",
    "# Programming for Data Analytics -  Project\n",
    "### Eoin Lees - G00387888 - December 2020\n",
    "------------"
   ]
  },
  {
   "cell_type": "markdown",
   "metadata": {},
   "source": [
    "### Problem statement\n",
    "\n",
    "For this project you must create a data set by `simulating a real-world phenomenon of\n",
    "your choosing.` You may pick any phenomenon you wish – you might pick one that is\n",
    "of interest to you in your personal or professional life. Then, rather than collect data\n",
    "related to the phenomenon, you should `model and synthesise such data using Python.`\n",
    "We suggest you use the numpy.random package for this purpose.\n",
    "    Specifically, in this project you should:\n",
    "    \n",
    "* Choose a real-world phenomenon that can be measured and for which you could collect at least one-hundred data points across at least four different variables.\n",
    "* Investigate the types of variables involved, their likely distributions, and their relationships with each other.\n",
    "* Synthesise/simulate a data set as closely matching their properties as possible.\n",
    "* Detail your research and implement the simulation in a Jupyter notebook – the data set itself can simply be displayed in an output cell within the notebook.\n",
    "\n",
    "\n",
    "Note that `this project is about simulation` – you must synthesise a data set. Some\n",
    "students may already have some real-world data sets in their own files. It is okay to\n",
    "base your synthesised data set on these should you wish (please reference it if you do),\n",
    "but the main task in this project is to create a synthesised data set. The next section\n",
    "gives an example project idea\n",
    "\n",
    "-------------------"
   ]
  },
  {
   "cell_type": "markdown",
   "metadata": {},
   "source": [
    "# Table of contents \n",
    "\n",
    "1. [Introduction](#introduction)\n",
    "\n",
    "    a. [Boston Marathon](#BostonMarathon)\n",
    "    \n",
    "    b. [Aims](#Aims)\n",
    "    \n",
    "2. [Import Race Data](#import)  \n",
    "\n",
    "     a. [First impressions](#impressions)\n",
    "    \n",
    "    \n",
    "    \n",
    "2. [Another paragraph](#paragraph2)\n",
    "\n",
    "\n",
    "Some introduction text, formatted in heading 2 style\n",
    "\n",
    "## Some paragraph <a name=\"impossrt\"></a>\n",
    "The first paragraph text\n",
    "\n",
    "### Sub paragraph <a name=\"subparagraph1\"></a>\n",
    "This is a sub paragraph, formatted in heading 3 style\n",
    "\n",
    "## Another paragraph <a name=\"paragraph2\"></a>\n",
    "The second paragraph text\n",
    "\n",
    "\n",
    "\n",
    "source:  [[5]](https://stackoverflow.com/questions/11948245/markdown-to-create-pages-and-table-of-contents/33433098#33433098)\n",
    "\n",
    "--------------------------"
   ]
  },
  {
   "cell_type": "code",
   "execution_count": 1,
   "metadata": {},
   "outputs": [],
   "source": [
    "# Import modules\n",
    "import pandas as pd\n",
    "import matplotlib.pyplot as plt\n",
    "import numpy as np\n",
    "import seaborn as sns"
   ]
  },
  {
   "cell_type": "markdown",
   "metadata": {},
   "source": [
    "-------------------------------\n",
    "# 1. Introduction <a name=\"introduction\"></a>\n",
    "--------------------------------\n",
    "\n",
    "The marathon is a long-distance running race with an official distance of 42.195 kilometres (26 miles 385 yards). [[3]](https://en.wikipedia.org/wiki/Marathon)\n",
    "The marathon was one of the original modern Olympic events in 1896, though the distance did not become standardized until 1921. More than 800 marathons are held throughout the world each year, with the vast majority of competitors being recreational athletes, as larger marathons can have tens of thousands of participants.\n",
    "\n",
    "\n",
    "## a. Aims <a name=\"Aims\"></a>\n",
    "\n",
    "The aim of this project is to take data from a known marathon and use it to aid in simulating a \"Galway 2020\" marathon dataset.\n",
    "\n",
    "The data set with the real measured values will be review to decide on whice variables are best to choose and then simulate based on their properties. \n",
    "\n",
    "The simulated dataset will also be influenced by further research in the marathon field to ensure un biased results. \n",
    "\n",
    "\n",
    "## b. Boston Marathon  <a name=\"BostonMarathon\"></a>\n",
    "\n",
    "The Boston Marathon is the world's oldest annual marathon. It began on april 19th 1897. It typically takes place on the third monday in April. [[1]](https://en.wikipedia.org/wiki/Boston_Marathon) \n",
    "\n",
    "### Data set \n",
    "\n",
    "The data set was taken from the \"Boston-Marathon-Data-Project\" repo found on git hub. It contains a csv file of the results of every Boston Marathon.  [[2]](https://github.com/adrian3/Boston-Marathon-Data-Project)\n",
    "\n",
    "It contains the following variables: \n",
    "\n",
    "`\"place_overall\",\"bib\",\"name\",\"age\",\"gender\",\"city\",\"state\",\"country_residence\",\"contry_citizenship\",\"name_suffix\",\"5k\",\n",
    "\"10k\",\"15k\",\"20k\",\"half\",\"25k\",\"30k\",\"35k\",\"40k\",\"pace\",\"projected_time\",\"official_time\",\"overall\",\"gender_result\",\n",
    "\"division_result\",seconds,\"first_name\",\"last_name\",\"display_name\"`\n",
    "\n",
    "The data is in 26646 rows × 50 columns.\n",
    "\n",
    "It shows  the information for the 26645 finishers of the Boston marathon on April 15th 2019. \n",
    "\n",
    "**Bias**\n",
    "\n",
    "As the Boston marathon is one of the most highly regarded marathons in the world they receive many entry applications a year. It is currently capped at 30,000 entrants. \n",
    "\n",
    "Because of this the Boston Athletic Association (B.A.A.) has come up with a system of qualification for the race based on certain qualifying standards. [[4]](https://www.baa.org/races/boston-marathon/qualify) With qualifying times for ages 18-34 at 3hrs for men and 3hrs 30min for women this will lead to a significant source of bias for simulating an event in Galway. Other criteria for times will be considered. \n",
    "\n",
    "\n",
    "---------------------------\n"
   ]
  },
  {
   "cell_type": "markdown",
   "metadata": {},
   "source": [
    "# 2. Import Race Data <a name=\"import\"></a>\n",
    "\n",
    "---------------------"
   ]
  },
  {
   "cell_type": "code",
   "execution_count": 2,
   "metadata": {
    "scrolled": true
   },
   "outputs": [
    {
     "data": {
      "text/html": [
       "<div>\n",
       "<style scoped>\n",
       "    .dataframe tbody tr th:only-of-type {\n",
       "        vertical-align: middle;\n",
       "    }\n",
       "\n",
       "    .dataframe tbody tr th {\n",
       "        vertical-align: top;\n",
       "    }\n",
       "\n",
       "    .dataframe thead th {\n",
       "        text-align: right;\n",
       "    }\n",
       "</style>\n",
       "<table border=\"1\" class=\"dataframe\">\n",
       "  <thead>\n",
       "    <tr style=\"text-align: right;\">\n",
       "      <th></th>\n",
       "      <th>place_overall</th>\n",
       "      <th>bib</th>\n",
       "      <th>name</th>\n",
       "      <th>age</th>\n",
       "      <th>gender</th>\n",
       "      <th>city</th>\n",
       "      <th>state</th>\n",
       "      <th>country_residence</th>\n",
       "      <th>contry_citizenship</th>\n",
       "      <th>name_suffix</th>\n",
       "      <th>...</th>\n",
       "      <th>Unnamed: 40</th>\n",
       "      <th>Unnamed: 41</th>\n",
       "      <th>Unnamed: 42</th>\n",
       "      <th>Unnamed: 43</th>\n",
       "      <th>Unnamed: 44</th>\n",
       "      <th>Unnamed: 45</th>\n",
       "      <th>Unnamed: 46</th>\n",
       "      <th>Unnamed: 47</th>\n",
       "      <th>Unnamed: 48</th>\n",
       "      <th>Unnamed: 49</th>\n",
       "    </tr>\n",
       "  </thead>\n",
       "  <tbody>\n",
       "    <tr>\n",
       "      <th>0</th>\n",
       "      <td>1</td>\n",
       "      <td>2</td>\n",
       "      <td>Cherono, Lawrence</td>\n",
       "      <td>30</td>\n",
       "      <td>M</td>\n",
       "      <td>Eldoret</td>\n",
       "      <td>NaN</td>\n",
       "      <td>Kenya</td>\n",
       "      <td>Kenya</td>\n",
       "      <td>NaN</td>\n",
       "      <td>...</td>\n",
       "      <td>NaN</td>\n",
       "      <td>NaN</td>\n",
       "      <td>NaN</td>\n",
       "      <td>NaN</td>\n",
       "      <td>NaN</td>\n",
       "      <td>NaN</td>\n",
       "      <td>NaN</td>\n",
       "      <td>NaN</td>\n",
       "      <td>NaN</td>\n",
       "      <td>NaN</td>\n",
       "    </tr>\n",
       "    <tr>\n",
       "      <th>1</th>\n",
       "      <td>2</td>\n",
       "      <td>6</td>\n",
       "      <td>Desisa, Lelisa</td>\n",
       "      <td>29</td>\n",
       "      <td>M</td>\n",
       "      <td>Ambo</td>\n",
       "      <td>NaN</td>\n",
       "      <td>Ethiopi</td>\n",
       "      <td>Ethiopi</td>\n",
       "      <td>NaN</td>\n",
       "      <td>...</td>\n",
       "      <td>NaN</td>\n",
       "      <td>NaN</td>\n",
       "      <td>NaN</td>\n",
       "      <td>NaN</td>\n",
       "      <td>NaN</td>\n",
       "      <td>NaN</td>\n",
       "      <td>NaN</td>\n",
       "      <td>NaN</td>\n",
       "      <td>NaN</td>\n",
       "      <td>NaN</td>\n",
       "    </tr>\n",
       "    <tr>\n",
       "      <th>2</th>\n",
       "      <td>3</td>\n",
       "      <td>7</td>\n",
       "      <td>Kipkemoi, Kenneth</td>\n",
       "      <td>34</td>\n",
       "      <td>M</td>\n",
       "      <td>Eldoret</td>\n",
       "      <td>NaN</td>\n",
       "      <td>Kenya</td>\n",
       "      <td>Kenya</td>\n",
       "      <td>NaN</td>\n",
       "      <td>...</td>\n",
       "      <td>NaN</td>\n",
       "      <td>NaN</td>\n",
       "      <td>NaN</td>\n",
       "      <td>NaN</td>\n",
       "      <td>NaN</td>\n",
       "      <td>NaN</td>\n",
       "      <td>NaN</td>\n",
       "      <td>NaN</td>\n",
       "      <td>NaN</td>\n",
       "      <td>NaN</td>\n",
       "    </tr>\n",
       "    <tr>\n",
       "      <th>3</th>\n",
       "      <td>4</td>\n",
       "      <td>8</td>\n",
       "      <td>Kandie, Felix</td>\n",
       "      <td>32</td>\n",
       "      <td>M</td>\n",
       "      <td>Iten</td>\n",
       "      <td>NaN</td>\n",
       "      <td>Kenya</td>\n",
       "      <td>Kenya</td>\n",
       "      <td>NaN</td>\n",
       "      <td>...</td>\n",
       "      <td>NaN</td>\n",
       "      <td>NaN</td>\n",
       "      <td>NaN</td>\n",
       "      <td>NaN</td>\n",
       "      <td>NaN</td>\n",
       "      <td>NaN</td>\n",
       "      <td>NaN</td>\n",
       "      <td>NaN</td>\n",
       "      <td>NaN</td>\n",
       "      <td>NaN</td>\n",
       "    </tr>\n",
       "    <tr>\n",
       "      <th>4</th>\n",
       "      <td>5</td>\n",
       "      <td>11</td>\n",
       "      <td>Kirui, Geoffrey</td>\n",
       "      <td>26</td>\n",
       "      <td>M</td>\n",
       "      <td>Keringet</td>\n",
       "      <td>NaN</td>\n",
       "      <td>Kenya</td>\n",
       "      <td>Kenya</td>\n",
       "      <td>NaN</td>\n",
       "      <td>...</td>\n",
       "      <td>NaN</td>\n",
       "      <td>NaN</td>\n",
       "      <td>NaN</td>\n",
       "      <td>NaN</td>\n",
       "      <td>NaN</td>\n",
       "      <td>NaN</td>\n",
       "      <td>NaN</td>\n",
       "      <td>NaN</td>\n",
       "      <td>NaN</td>\n",
       "      <td>NaN</td>\n",
       "    </tr>\n",
       "    <tr>\n",
       "      <th>...</th>\n",
       "      <td>...</td>\n",
       "      <td>...</td>\n",
       "      <td>...</td>\n",
       "      <td>...</td>\n",
       "      <td>...</td>\n",
       "      <td>...</td>\n",
       "      <td>...</td>\n",
       "      <td>...</td>\n",
       "      <td>...</td>\n",
       "      <td>...</td>\n",
       "      <td>...</td>\n",
       "      <td>...</td>\n",
       "      <td>...</td>\n",
       "      <td>...</td>\n",
       "      <td>...</td>\n",
       "      <td>...</td>\n",
       "      <td>...</td>\n",
       "      <td>...</td>\n",
       "      <td>...</td>\n",
       "      <td>...</td>\n",
       "      <td>...</td>\n",
       "    </tr>\n",
       "    <tr>\n",
       "      <th>26641</th>\n",
       "      <td>26653</td>\n",
       "      <td>23909</td>\n",
       "      <td>Mcninch, Brett</td>\n",
       "      <td>42</td>\n",
       "      <td>M</td>\n",
       "      <td>New Lebanon</td>\n",
       "      <td>OH</td>\n",
       "      <td>United</td>\n",
       "      <td>United</td>\n",
       "      <td>NaN</td>\n",
       "      <td>...</td>\n",
       "      <td>NaN</td>\n",
       "      <td>NaN</td>\n",
       "      <td>NaN</td>\n",
       "      <td>NaN</td>\n",
       "      <td>NaN</td>\n",
       "      <td>NaN</td>\n",
       "      <td>NaN</td>\n",
       "      <td>NaN</td>\n",
       "      <td>NaN</td>\n",
       "      <td>NaN</td>\n",
       "    </tr>\n",
       "    <tr>\n",
       "      <th>26642</th>\n",
       "      <td>26654</td>\n",
       "      <td>23949</td>\n",
       "      <td>Oconell, Justin</td>\n",
       "      <td>28</td>\n",
       "      <td>M</td>\n",
       "      <td>Franklin</td>\n",
       "      <td>MA</td>\n",
       "      <td>United</td>\n",
       "      <td>United</td>\n",
       "      <td>NaN</td>\n",
       "      <td>...</td>\n",
       "      <td>NaN</td>\n",
       "      <td>NaN</td>\n",
       "      <td>NaN</td>\n",
       "      <td>NaN</td>\n",
       "      <td>NaN</td>\n",
       "      <td>NaN</td>\n",
       "      <td>NaN</td>\n",
       "      <td>NaN</td>\n",
       "      <td>NaN</td>\n",
       "      <td>NaN</td>\n",
       "    </tr>\n",
       "    <tr>\n",
       "      <th>26643</th>\n",
       "      <td>26655</td>\n",
       "      <td>15946</td>\n",
       "      <td>Young, John</td>\n",
       "      <td>53</td>\n",
       "      <td>M</td>\n",
       "      <td>Salem</td>\n",
       "      <td>MA</td>\n",
       "      <td>United</td>\n",
       "      <td>United</td>\n",
       "      <td>NaN</td>\n",
       "      <td>...</td>\n",
       "      <td>NaN</td>\n",
       "      <td>NaN</td>\n",
       "      <td>NaN</td>\n",
       "      <td>NaN</td>\n",
       "      <td>NaN</td>\n",
       "      <td>NaN</td>\n",
       "      <td>NaN</td>\n",
       "      <td>NaN</td>\n",
       "      <td>NaN</td>\n",
       "      <td>NaN</td>\n",
       "    </tr>\n",
       "    <tr>\n",
       "      <th>26644</th>\n",
       "      <td>26656</td>\n",
       "      <td>23937</td>\n",
       "      <td>Smith, Denise</td>\n",
       "      <td>51</td>\n",
       "      <td>F</td>\n",
       "      <td>Fort Collins</td>\n",
       "      <td>CO</td>\n",
       "      <td>United</td>\n",
       "      <td>United</td>\n",
       "      <td>NaN</td>\n",
       "      <td>...</td>\n",
       "      <td>NaN</td>\n",
       "      <td>NaN</td>\n",
       "      <td>NaN</td>\n",
       "      <td>NaN</td>\n",
       "      <td>NaN</td>\n",
       "      <td>NaN</td>\n",
       "      <td>NaN</td>\n",
       "      <td>NaN</td>\n",
       "      <td>NaN</td>\n",
       "      <td>NaN</td>\n",
       "    </tr>\n",
       "    <tr>\n",
       "      <th>26645</th>\n",
       "      <td>26657</td>\n",
       "      <td>23958</td>\n",
       "      <td>Reilly, Bill</td>\n",
       "      <td>66</td>\n",
       "      <td>M</td>\n",
       "      <td>Kew Gardens</td>\n",
       "      <td>NY</td>\n",
       "      <td>United</td>\n",
       "      <td>United</td>\n",
       "      <td>NaN</td>\n",
       "      <td>...</td>\n",
       "      <td>NaN</td>\n",
       "      <td>NaN</td>\n",
       "      <td>NaN</td>\n",
       "      <td>NaN</td>\n",
       "      <td>NaN</td>\n",
       "      <td>NaN</td>\n",
       "      <td>NaN</td>\n",
       "      <td>NaN</td>\n",
       "      <td>NaN</td>\n",
       "      <td>NaN</td>\n",
       "    </tr>\n",
       "  </tbody>\n",
       "</table>\n",
       "<p>26646 rows × 50 columns</p>\n",
       "</div>"
      ],
      "text/plain": [
       "      place_overall    bib               name age gender          city state  \\\n",
       "0                 1      2  Cherono, Lawrence  30      M       Eldoret   NaN   \n",
       "1                 2      6     Desisa, Lelisa  29      M          Ambo   NaN   \n",
       "2                 3      7  Kipkemoi, Kenneth  34      M       Eldoret   NaN   \n",
       "3                 4      8      Kandie, Felix  32      M          Iten   NaN   \n",
       "4                 5     11    Kirui, Geoffrey  26      M      Keringet   NaN   \n",
       "...             ...    ...                ...  ..    ...           ...   ...   \n",
       "26641         26653  23909     Mcninch, Brett  42      M   New Lebanon   OH    \n",
       "26642         26654  23949    Oconell, Justin  28      M      Franklin   MA    \n",
       "26643         26655  15946        Young, John  53      M         Salem   MA    \n",
       "26644         26656  23937      Smith, Denise  51      F  Fort Collins   CO    \n",
       "26645         26657  23958       Reilly, Bill  66      M   Kew Gardens   NY    \n",
       "\n",
       "      country_residence contry_citizenship  name_suffix  ...  Unnamed: 40  \\\n",
       "0                 Kenya              Kenya          NaN  ...          NaN   \n",
       "1               Ethiopi            Ethiopi          NaN  ...          NaN   \n",
       "2                 Kenya              Kenya          NaN  ...          NaN   \n",
       "3                 Kenya              Kenya          NaN  ...          NaN   \n",
       "4                 Kenya              Kenya          NaN  ...          NaN   \n",
       "...                 ...                ...          ...  ...          ...   \n",
       "26641           United             United           NaN  ...          NaN   \n",
       "26642           United             United           NaN  ...          NaN   \n",
       "26643           United             United           NaN  ...          NaN   \n",
       "26644           United             United           NaN  ...          NaN   \n",
       "26645           United             United           NaN  ...          NaN   \n",
       "\n",
       "       Unnamed: 41  Unnamed: 42  Unnamed: 43  Unnamed: 44  Unnamed: 45  \\\n",
       "0              NaN          NaN          NaN          NaN          NaN   \n",
       "1              NaN          NaN          NaN          NaN          NaN   \n",
       "2              NaN          NaN          NaN          NaN          NaN   \n",
       "3              NaN          NaN          NaN          NaN          NaN   \n",
       "4              NaN          NaN          NaN          NaN          NaN   \n",
       "...            ...          ...          ...          ...          ...   \n",
       "26641          NaN          NaN          NaN          NaN          NaN   \n",
       "26642          NaN          NaN          NaN          NaN          NaN   \n",
       "26643          NaN          NaN          NaN          NaN          NaN   \n",
       "26644          NaN          NaN          NaN          NaN          NaN   \n",
       "26645          NaN          NaN          NaN          NaN          NaN   \n",
       "\n",
       "       Unnamed: 46  Unnamed: 47  Unnamed: 48  Unnamed: 49  \n",
       "0              NaN          NaN          NaN          NaN  \n",
       "1              NaN          NaN          NaN          NaN  \n",
       "2              NaN          NaN          NaN          NaN  \n",
       "3              NaN          NaN          NaN          NaN  \n",
       "4              NaN          NaN          NaN          NaN  \n",
       "...            ...          ...          ...          ...  \n",
       "26641          NaN          NaN          NaN          NaN  \n",
       "26642          NaN          NaN          NaN          NaN  \n",
       "26643          NaN          NaN          NaN          NaN  \n",
       "26644          NaN          NaN          NaN          NaN  \n",
       "26645          NaN          NaN          NaN          NaN  \n",
       "\n",
       "[26646 rows x 50 columns]"
      ]
     },
     "execution_count": 2,
     "metadata": {},
     "output_type": "execute_result"
    }
   ],
   "source": [
    "df = pd.read_csv(\"./results2019.csv\", low_memory=False) \n",
    "df"
   ]
  },
  {
   "cell_type": "code",
   "execution_count": 3,
   "metadata": {},
   "outputs": [
    {
     "data": {
      "text/html": [
       "<div>\n",
       "<style scoped>\n",
       "    .dataframe tbody tr th:only-of-type {\n",
       "        vertical-align: middle;\n",
       "    }\n",
       "\n",
       "    .dataframe tbody tr th {\n",
       "        vertical-align: top;\n",
       "    }\n",
       "\n",
       "    .dataframe thead th {\n",
       "        text-align: right;\n",
       "    }\n",
       "</style>\n",
       "<table border=\"1\" class=\"dataframe\">\n",
       "  <thead>\n",
       "    <tr style=\"text-align: right;\">\n",
       "      <th></th>\n",
       "      <th>name_suffix</th>\n",
       "      <th>5k</th>\n",
       "      <th>10k</th>\n",
       "      <th>15k</th>\n",
       "      <th>20k</th>\n",
       "      <th>half</th>\n",
       "      <th>25k</th>\n",
       "      <th>30k</th>\n",
       "      <th>35k</th>\n",
       "      <th>40k</th>\n",
       "      <th>...</th>\n",
       "      <th>Unnamed: 40</th>\n",
       "      <th>Unnamed: 41</th>\n",
       "      <th>Unnamed: 42</th>\n",
       "      <th>Unnamed: 43</th>\n",
       "      <th>Unnamed: 44</th>\n",
       "      <th>Unnamed: 45</th>\n",
       "      <th>Unnamed: 46</th>\n",
       "      <th>Unnamed: 47</th>\n",
       "      <th>Unnamed: 48</th>\n",
       "      <th>Unnamed: 49</th>\n",
       "    </tr>\n",
       "  </thead>\n",
       "  <tbody>\n",
       "    <tr>\n",
       "      <th>count</th>\n",
       "      <td>0.0</td>\n",
       "      <td>0.0</td>\n",
       "      <td>0.0</td>\n",
       "      <td>0.0</td>\n",
       "      <td>0.0</td>\n",
       "      <td>0.0</td>\n",
       "      <td>0.0</td>\n",
       "      <td>0.0</td>\n",
       "      <td>0.0</td>\n",
       "      <td>0.0</td>\n",
       "      <td>...</td>\n",
       "      <td>0.0</td>\n",
       "      <td>0.0</td>\n",
       "      <td>0.0</td>\n",
       "      <td>0.0</td>\n",
       "      <td>0.0</td>\n",
       "      <td>0.0</td>\n",
       "      <td>0.0</td>\n",
       "      <td>0.0</td>\n",
       "      <td>0.0</td>\n",
       "      <td>0.0</td>\n",
       "    </tr>\n",
       "    <tr>\n",
       "      <th>mean</th>\n",
       "      <td>NaN</td>\n",
       "      <td>NaN</td>\n",
       "      <td>NaN</td>\n",
       "      <td>NaN</td>\n",
       "      <td>NaN</td>\n",
       "      <td>NaN</td>\n",
       "      <td>NaN</td>\n",
       "      <td>NaN</td>\n",
       "      <td>NaN</td>\n",
       "      <td>NaN</td>\n",
       "      <td>...</td>\n",
       "      <td>NaN</td>\n",
       "      <td>NaN</td>\n",
       "      <td>NaN</td>\n",
       "      <td>NaN</td>\n",
       "      <td>NaN</td>\n",
       "      <td>NaN</td>\n",
       "      <td>NaN</td>\n",
       "      <td>NaN</td>\n",
       "      <td>NaN</td>\n",
       "      <td>NaN</td>\n",
       "    </tr>\n",
       "    <tr>\n",
       "      <th>std</th>\n",
       "      <td>NaN</td>\n",
       "      <td>NaN</td>\n",
       "      <td>NaN</td>\n",
       "      <td>NaN</td>\n",
       "      <td>NaN</td>\n",
       "      <td>NaN</td>\n",
       "      <td>NaN</td>\n",
       "      <td>NaN</td>\n",
       "      <td>NaN</td>\n",
       "      <td>NaN</td>\n",
       "      <td>...</td>\n",
       "      <td>NaN</td>\n",
       "      <td>NaN</td>\n",
       "      <td>NaN</td>\n",
       "      <td>NaN</td>\n",
       "      <td>NaN</td>\n",
       "      <td>NaN</td>\n",
       "      <td>NaN</td>\n",
       "      <td>NaN</td>\n",
       "      <td>NaN</td>\n",
       "      <td>NaN</td>\n",
       "    </tr>\n",
       "    <tr>\n",
       "      <th>min</th>\n",
       "      <td>NaN</td>\n",
       "      <td>NaN</td>\n",
       "      <td>NaN</td>\n",
       "      <td>NaN</td>\n",
       "      <td>NaN</td>\n",
       "      <td>NaN</td>\n",
       "      <td>NaN</td>\n",
       "      <td>NaN</td>\n",
       "      <td>NaN</td>\n",
       "      <td>NaN</td>\n",
       "      <td>...</td>\n",
       "      <td>NaN</td>\n",
       "      <td>NaN</td>\n",
       "      <td>NaN</td>\n",
       "      <td>NaN</td>\n",
       "      <td>NaN</td>\n",
       "      <td>NaN</td>\n",
       "      <td>NaN</td>\n",
       "      <td>NaN</td>\n",
       "      <td>NaN</td>\n",
       "      <td>NaN</td>\n",
       "    </tr>\n",
       "    <tr>\n",
       "      <th>25%</th>\n",
       "      <td>NaN</td>\n",
       "      <td>NaN</td>\n",
       "      <td>NaN</td>\n",
       "      <td>NaN</td>\n",
       "      <td>NaN</td>\n",
       "      <td>NaN</td>\n",
       "      <td>NaN</td>\n",
       "      <td>NaN</td>\n",
       "      <td>NaN</td>\n",
       "      <td>NaN</td>\n",
       "      <td>...</td>\n",
       "      <td>NaN</td>\n",
       "      <td>NaN</td>\n",
       "      <td>NaN</td>\n",
       "      <td>NaN</td>\n",
       "      <td>NaN</td>\n",
       "      <td>NaN</td>\n",
       "      <td>NaN</td>\n",
       "      <td>NaN</td>\n",
       "      <td>NaN</td>\n",
       "      <td>NaN</td>\n",
       "    </tr>\n",
       "    <tr>\n",
       "      <th>50%</th>\n",
       "      <td>NaN</td>\n",
       "      <td>NaN</td>\n",
       "      <td>NaN</td>\n",
       "      <td>NaN</td>\n",
       "      <td>NaN</td>\n",
       "      <td>NaN</td>\n",
       "      <td>NaN</td>\n",
       "      <td>NaN</td>\n",
       "      <td>NaN</td>\n",
       "      <td>NaN</td>\n",
       "      <td>...</td>\n",
       "      <td>NaN</td>\n",
       "      <td>NaN</td>\n",
       "      <td>NaN</td>\n",
       "      <td>NaN</td>\n",
       "      <td>NaN</td>\n",
       "      <td>NaN</td>\n",
       "      <td>NaN</td>\n",
       "      <td>NaN</td>\n",
       "      <td>NaN</td>\n",
       "      <td>NaN</td>\n",
       "    </tr>\n",
       "    <tr>\n",
       "      <th>75%</th>\n",
       "      <td>NaN</td>\n",
       "      <td>NaN</td>\n",
       "      <td>NaN</td>\n",
       "      <td>NaN</td>\n",
       "      <td>NaN</td>\n",
       "      <td>NaN</td>\n",
       "      <td>NaN</td>\n",
       "      <td>NaN</td>\n",
       "      <td>NaN</td>\n",
       "      <td>NaN</td>\n",
       "      <td>...</td>\n",
       "      <td>NaN</td>\n",
       "      <td>NaN</td>\n",
       "      <td>NaN</td>\n",
       "      <td>NaN</td>\n",
       "      <td>NaN</td>\n",
       "      <td>NaN</td>\n",
       "      <td>NaN</td>\n",
       "      <td>NaN</td>\n",
       "      <td>NaN</td>\n",
       "      <td>NaN</td>\n",
       "    </tr>\n",
       "    <tr>\n",
       "      <th>max</th>\n",
       "      <td>NaN</td>\n",
       "      <td>NaN</td>\n",
       "      <td>NaN</td>\n",
       "      <td>NaN</td>\n",
       "      <td>NaN</td>\n",
       "      <td>NaN</td>\n",
       "      <td>NaN</td>\n",
       "      <td>NaN</td>\n",
       "      <td>NaN</td>\n",
       "      <td>NaN</td>\n",
       "      <td>...</td>\n",
       "      <td>NaN</td>\n",
       "      <td>NaN</td>\n",
       "      <td>NaN</td>\n",
       "      <td>NaN</td>\n",
       "      <td>NaN</td>\n",
       "      <td>NaN</td>\n",
       "      <td>NaN</td>\n",
       "      <td>NaN</td>\n",
       "      <td>NaN</td>\n",
       "      <td>NaN</td>\n",
       "    </tr>\n",
       "  </tbody>\n",
       "</table>\n",
       "<p>8 rows × 36 columns</p>\n",
       "</div>"
      ],
      "text/plain": [
       "       name_suffix   5k  10k  15k  20k  half  25k  30k  35k  40k  ...  \\\n",
       "count          0.0  0.0  0.0  0.0  0.0   0.0  0.0  0.0  0.0  0.0  ...   \n",
       "mean           NaN  NaN  NaN  NaN  NaN   NaN  NaN  NaN  NaN  NaN  ...   \n",
       "std            NaN  NaN  NaN  NaN  NaN   NaN  NaN  NaN  NaN  NaN  ...   \n",
       "min            NaN  NaN  NaN  NaN  NaN   NaN  NaN  NaN  NaN  NaN  ...   \n",
       "25%            NaN  NaN  NaN  NaN  NaN   NaN  NaN  NaN  NaN  NaN  ...   \n",
       "50%            NaN  NaN  NaN  NaN  NaN   NaN  NaN  NaN  NaN  NaN  ...   \n",
       "75%            NaN  NaN  NaN  NaN  NaN   NaN  NaN  NaN  NaN  NaN  ...   \n",
       "max            NaN  NaN  NaN  NaN  NaN   NaN  NaN  NaN  NaN  NaN  ...   \n",
       "\n",
       "       Unnamed: 40  Unnamed: 41  Unnamed: 42  Unnamed: 43  Unnamed: 44  \\\n",
       "count          0.0          0.0          0.0          0.0          0.0   \n",
       "mean           NaN          NaN          NaN          NaN          NaN   \n",
       "std            NaN          NaN          NaN          NaN          NaN   \n",
       "min            NaN          NaN          NaN          NaN          NaN   \n",
       "25%            NaN          NaN          NaN          NaN          NaN   \n",
       "50%            NaN          NaN          NaN          NaN          NaN   \n",
       "75%            NaN          NaN          NaN          NaN          NaN   \n",
       "max            NaN          NaN          NaN          NaN          NaN   \n",
       "\n",
       "       Unnamed: 45  Unnamed: 46  Unnamed: 47  Unnamed: 48  Unnamed: 49  \n",
       "count          0.0          0.0          0.0          0.0          0.0  \n",
       "mean           NaN          NaN          NaN          NaN          NaN  \n",
       "std            NaN          NaN          NaN          NaN          NaN  \n",
       "min            NaN          NaN          NaN          NaN          NaN  \n",
       "25%            NaN          NaN          NaN          NaN          NaN  \n",
       "50%            NaN          NaN          NaN          NaN          NaN  \n",
       "75%            NaN          NaN          NaN          NaN          NaN  \n",
       "max            NaN          NaN          NaN          NaN          NaN  \n",
       "\n",
       "[8 rows x 36 columns]"
      ]
     },
     "execution_count": 3,
     "metadata": {},
     "output_type": "execute_result"
    }
   ],
   "source": [
    "df.describe()"
   ]
  },
  {
   "cell_type": "markdown",
   "metadata": {},
   "source": [
    "### Initial variable selection\n",
    "\n",
    "After having a quick look at the data set and keeping in mind the task the variables chosen to investigate are:\n",
    "\n",
    "* gender - the gender of the participant\n",
    "* age - the age of the person\n",
    "* official_time - the official finishing time \n",
    "* place_overall - their place overall\n",
    "\n",
    "Using `pandas` we can easily import the csv and then select these variables from the larger dataframe.[[6]](https://pandas.pydata.org/pandas-docs/stable/reference/io.html) We can then create a new one thats easier to deal with. "
   ]
  },
  {
   "cell_type": "code",
   "execution_count": 4,
   "metadata": {},
   "outputs": [
    {
     "data": {
      "text/html": [
       "<div>\n",
       "<style scoped>\n",
       "    .dataframe tbody tr th:only-of-type {\n",
       "        vertical-align: middle;\n",
       "    }\n",
       "\n",
       "    .dataframe tbody tr th {\n",
       "        vertical-align: top;\n",
       "    }\n",
       "\n",
       "    .dataframe thead th {\n",
       "        text-align: right;\n",
       "    }\n",
       "</style>\n",
       "<table border=\"1\" class=\"dataframe\">\n",
       "  <thead>\n",
       "    <tr style=\"text-align: right;\">\n",
       "      <th></th>\n",
       "      <th>gender</th>\n",
       "      <th>age</th>\n",
       "      <th>official_time</th>\n",
       "      <th>place_overall</th>\n",
       "    </tr>\n",
       "  </thead>\n",
       "  <tbody>\n",
       "    <tr>\n",
       "      <th>0</th>\n",
       "      <td>M</td>\n",
       "      <td>30</td>\n",
       "      <td>02:07:57</td>\n",
       "      <td>1</td>\n",
       "    </tr>\n",
       "    <tr>\n",
       "      <th>1</th>\n",
       "      <td>M</td>\n",
       "      <td>29</td>\n",
       "      <td>02:07:59</td>\n",
       "      <td>2</td>\n",
       "    </tr>\n",
       "    <tr>\n",
       "      <th>2</th>\n",
       "      <td>M</td>\n",
       "      <td>34</td>\n",
       "      <td>02:08:07</td>\n",
       "      <td>3</td>\n",
       "    </tr>\n",
       "    <tr>\n",
       "      <th>3</th>\n",
       "      <td>M</td>\n",
       "      <td>32</td>\n",
       "      <td>02:08:54</td>\n",
       "      <td>4</td>\n",
       "    </tr>\n",
       "    <tr>\n",
       "      <th>4</th>\n",
       "      <td>M</td>\n",
       "      <td>26</td>\n",
       "      <td>02:08:55</td>\n",
       "      <td>5</td>\n",
       "    </tr>\n",
       "  </tbody>\n",
       "</table>\n",
       "</div>"
      ],
      "text/plain": [
       "  gender age official_time place_overall\n",
       "0      M  30      02:07:57             1\n",
       "1      M  29      02:07:59             2\n",
       "2      M  34      02:08:07             3\n",
       "3      M  32      02:08:54             4\n",
       "4      M  26      02:08:55             5"
      ]
     },
     "execution_count": 4,
     "metadata": {},
     "output_type": "execute_result"
    }
   ],
   "source": [
    "marathonData = df[[\"gender\", \"age\", \"official_time\",  \"place_overall\" ]]\n",
    "marathonData.head()"
   ]
  },
  {
   "cell_type": "code",
   "execution_count": 5,
   "metadata": {},
   "outputs": [
    {
     "data": {
      "text/html": [
       "<div>\n",
       "<style scoped>\n",
       "    .dataframe tbody tr th:only-of-type {\n",
       "        vertical-align: middle;\n",
       "    }\n",
       "\n",
       "    .dataframe tbody tr th {\n",
       "        vertical-align: top;\n",
       "    }\n",
       "\n",
       "    .dataframe thead th {\n",
       "        text-align: right;\n",
       "    }\n",
       "</style>\n",
       "<table border=\"1\" class=\"dataframe\">\n",
       "  <thead>\n",
       "    <tr style=\"text-align: right;\">\n",
       "      <th></th>\n",
       "      <th>gender</th>\n",
       "      <th>age</th>\n",
       "      <th>official_time</th>\n",
       "      <th>place_overall</th>\n",
       "    </tr>\n",
       "  </thead>\n",
       "  <tbody>\n",
       "    <tr>\n",
       "      <th>26641</th>\n",
       "      <td>M</td>\n",
       "      <td>42</td>\n",
       "      <td>07:14:12</td>\n",
       "      <td>26653</td>\n",
       "    </tr>\n",
       "    <tr>\n",
       "      <th>26642</th>\n",
       "      <td>M</td>\n",
       "      <td>28</td>\n",
       "      <td>07:16:19</td>\n",
       "      <td>26654</td>\n",
       "    </tr>\n",
       "    <tr>\n",
       "      <th>26643</th>\n",
       "      <td>M</td>\n",
       "      <td>53</td>\n",
       "      <td>07:17:35</td>\n",
       "      <td>26655</td>\n",
       "    </tr>\n",
       "    <tr>\n",
       "      <th>26644</th>\n",
       "      <td>F</td>\n",
       "      <td>51</td>\n",
       "      <td>07:25:39</td>\n",
       "      <td>26656</td>\n",
       "    </tr>\n",
       "    <tr>\n",
       "      <th>26645</th>\n",
       "      <td>M</td>\n",
       "      <td>66</td>\n",
       "      <td>07:43:48</td>\n",
       "      <td>26657</td>\n",
       "    </tr>\n",
       "  </tbody>\n",
       "</table>\n",
       "</div>"
      ],
      "text/plain": [
       "      gender age official_time place_overall\n",
       "26641      M  42      07:14:12         26653\n",
       "26642      M  28      07:16:19         26654\n",
       "26643      M  53      07:17:35         26655\n",
       "26644      F  51      07:25:39         26656\n",
       "26645      M  66      07:43:48         26657"
      ]
     },
     "execution_count": 5,
     "metadata": {},
     "output_type": "execute_result"
    }
   ],
   "source": [
    "marathonData.tail()"
   ]
  },
  {
   "cell_type": "code",
   "execution_count": 6,
   "metadata": {
    "scrolled": true
   },
   "outputs": [
    {
     "data": {
      "text/html": [
       "<div>\n",
       "<style scoped>\n",
       "    .dataframe tbody tr th:only-of-type {\n",
       "        vertical-align: middle;\n",
       "    }\n",
       "\n",
       "    .dataframe tbody tr th {\n",
       "        vertical-align: top;\n",
       "    }\n",
       "\n",
       "    .dataframe thead th {\n",
       "        text-align: right;\n",
       "    }\n",
       "</style>\n",
       "<table border=\"1\" class=\"dataframe\">\n",
       "  <thead>\n",
       "    <tr style=\"text-align: right;\">\n",
       "      <th></th>\n",
       "      <th>gender</th>\n",
       "      <th>age</th>\n",
       "      <th>official_time</th>\n",
       "      <th>place_overall</th>\n",
       "    </tr>\n",
       "  </thead>\n",
       "  <tbody>\n",
       "    <tr>\n",
       "      <th>count</th>\n",
       "      <td>26646</td>\n",
       "      <td>26646</td>\n",
       "      <td>26646</td>\n",
       "      <td>26646</td>\n",
       "    </tr>\n",
       "    <tr>\n",
       "      <th>unique</th>\n",
       "      <td>4</td>\n",
       "      <td>68</td>\n",
       "      <td>9562</td>\n",
       "      <td>26646</td>\n",
       "    </tr>\n",
       "    <tr>\n",
       "      <th>top</th>\n",
       "      <td>M</td>\n",
       "      <td>45</td>\n",
       "      <td>03:49:19</td>\n",
       "      <td>12803</td>\n",
       "    </tr>\n",
       "    <tr>\n",
       "      <th>freq</th>\n",
       "      <td>14664</td>\n",
       "      <td>1052</td>\n",
       "      <td>13</td>\n",
       "      <td>1</td>\n",
       "    </tr>\n",
       "  </tbody>\n",
       "</table>\n",
       "</div>"
      ],
      "text/plain": [
       "       gender    age official_time place_overall\n",
       "count   26646  26646         26646         26646\n",
       "unique      4     68          9562         26646\n",
       "top         M     45      03:49:19         12803\n",
       "freq    14664   1052            13             1"
      ]
     },
     "execution_count": 6,
     "metadata": {},
     "output_type": "execute_result"
    }
   ],
   "source": [
    "marathonData.describe()"
   ]
  },
  {
   "cell_type": "markdown",
   "metadata": {},
   "source": [
    "## First impressions <a name=\"impressions\"></a>\n",
    "\n",
    "There is a lot of usefull information in this data set. Combined with all of the data from the past boston marathons [[2]](https://github.com/adrian3/Boston-Marathon-Data-Project) it would be possible to do a proper in depth analysis of the Boston marathon over its history.\n",
    "\n",
    "However, that is not the purpose of this exercise. All that is needed is a data set to help make some decisions when simulating a new data set. As it is, this data set is too large to work with as it has over 26000 entrants with 50 individual data points for each. Running functions on a data set of this size takes up a lot of processing power and time. It is not needed. In order to solve this issue a create random sample is created. \n",
    "\n",
    "--------------------------"
   ]
  },
  {
   "cell_type": "markdown",
   "metadata": {},
   "source": [
    "# 3. Create random sample <a name=\"3.\"></a>\n",
    "\n",
    "--------------------------"
   ]
  },
  {
   "cell_type": "code",
   "execution_count": 7,
   "metadata": {},
   "outputs": [],
   "source": [
    "# Create sample\n",
    "marathonSample = marathonData.sample(n=1000)\n"
   ]
  },
  {
   "cell_type": "code",
   "execution_count": 8,
   "metadata": {},
   "outputs": [
    {
     "data": {
      "text/html": [
       "<div>\n",
       "<style scoped>\n",
       "    .dataframe tbody tr th:only-of-type {\n",
       "        vertical-align: middle;\n",
       "    }\n",
       "\n",
       "    .dataframe tbody tr th {\n",
       "        vertical-align: top;\n",
       "    }\n",
       "\n",
       "    .dataframe thead th {\n",
       "        text-align: right;\n",
       "    }\n",
       "</style>\n",
       "<table border=\"1\" class=\"dataframe\">\n",
       "  <thead>\n",
       "    <tr style=\"text-align: right;\">\n",
       "      <th></th>\n",
       "      <th>gender</th>\n",
       "      <th>age</th>\n",
       "      <th>official_time</th>\n",
       "      <th>place_overall</th>\n",
       "    </tr>\n",
       "  </thead>\n",
       "  <tbody>\n",
       "    <tr>\n",
       "      <th>12825</th>\n",
       "      <td>M</td>\n",
       "      <td>52</td>\n",
       "      <td>03:43:45</td>\n",
       "      <td>12832</td>\n",
       "    </tr>\n",
       "    <tr>\n",
       "      <th>25970</th>\n",
       "      <td>F</td>\n",
       "      <td>31</td>\n",
       "      <td>05:40:53</td>\n",
       "      <td>25980</td>\n",
       "    </tr>\n",
       "    <tr>\n",
       "      <th>11403</th>\n",
       "      <td>F</td>\n",
       "      <td>51</td>\n",
       "      <td>03:38:15</td>\n",
       "      <td>11409</td>\n",
       "    </tr>\n",
       "    <tr>\n",
       "      <th>25246</th>\n",
       "      <td>M</td>\n",
       "      <td>50</td>\n",
       "      <td>05:21:09</td>\n",
       "      <td>25256</td>\n",
       "    </tr>\n",
       "    <tr>\n",
       "      <th>8855</th>\n",
       "      <td>M</td>\n",
       "      <td>52</td>\n",
       "      <td>03:28:41</td>\n",
       "      <td>8860</td>\n",
       "    </tr>\n",
       "    <tr>\n",
       "      <th>...</th>\n",
       "      <td>...</td>\n",
       "      <td>...</td>\n",
       "      <td>...</td>\n",
       "      <td>...</td>\n",
       "    </tr>\n",
       "    <tr>\n",
       "      <th>12339</th>\n",
       "      <td>F</td>\n",
       "      <td>34</td>\n",
       "      <td>03:41:58</td>\n",
       "      <td>12346</td>\n",
       "    </tr>\n",
       "    <tr>\n",
       "      <th>3933</th>\n",
       "      <td>F</td>\n",
       "      <td>20</td>\n",
       "      <td>03:07:49</td>\n",
       "      <td>3936</td>\n",
       "    </tr>\n",
       "    <tr>\n",
       "      <th>4219</th>\n",
       "      <td>M</td>\n",
       "      <td>35</td>\n",
       "      <td>03:09:17</td>\n",
       "      <td>4222</td>\n",
       "    </tr>\n",
       "    <tr>\n",
       "      <th>20794</th>\n",
       "      <td>M</td>\n",
       "      <td>58</td>\n",
       "      <td>04:24:51</td>\n",
       "      <td>20803</td>\n",
       "    </tr>\n",
       "    <tr>\n",
       "      <th>15810</th>\n",
       "      <td>F</td>\n",
       "      <td>27</td>\n",
       "      <td>03:55:24</td>\n",
       "      <td>15817</td>\n",
       "    </tr>\n",
       "  </tbody>\n",
       "</table>\n",
       "<p>1000 rows × 4 columns</p>\n",
       "</div>"
      ],
      "text/plain": [
       "      gender age official_time place_overall\n",
       "12825      M  52      03:43:45         12832\n",
       "25970      F  31      05:40:53         25980\n",
       "11403      F  51      03:38:15         11409\n",
       "25246      M  50      05:21:09         25256\n",
       "8855       M  52      03:28:41          8860\n",
       "...      ...  ..           ...           ...\n",
       "12339      F  34      03:41:58         12346\n",
       "3933       F  20      03:07:49          3936\n",
       "4219       M  35      03:09:17          4222\n",
       "20794      M  58      04:24:51         20803\n",
       "15810      F  27      03:55:24         15817\n",
       "\n",
       "[1000 rows x 4 columns]"
      ]
     },
     "execution_count": 8,
     "metadata": {},
     "output_type": "execute_result"
    }
   ],
   "source": [
    "# View created sample\n",
    "marathonSample"
   ]
  },
  {
   "cell_type": "code",
   "execution_count": 9,
   "metadata": {},
   "outputs": [
    {
     "data": {
      "text/html": [
       "<div>\n",
       "<style scoped>\n",
       "    .dataframe tbody tr th:only-of-type {\n",
       "        vertical-align: middle;\n",
       "    }\n",
       "\n",
       "    .dataframe tbody tr th {\n",
       "        vertical-align: top;\n",
       "    }\n",
       "\n",
       "    .dataframe thead th {\n",
       "        text-align: right;\n",
       "    }\n",
       "</style>\n",
       "<table border=\"1\" class=\"dataframe\">\n",
       "  <thead>\n",
       "    <tr style=\"text-align: right;\">\n",
       "      <th></th>\n",
       "      <th>gender</th>\n",
       "      <th>age</th>\n",
       "      <th>official_time</th>\n",
       "      <th>place_overall</th>\n",
       "    </tr>\n",
       "  </thead>\n",
       "  <tbody>\n",
       "    <tr>\n",
       "      <th>12825</th>\n",
       "      <td>M</td>\n",
       "      <td>52</td>\n",
       "      <td>03:43:45</td>\n",
       "      <td>12832</td>\n",
       "    </tr>\n",
       "    <tr>\n",
       "      <th>25970</th>\n",
       "      <td>F</td>\n",
       "      <td>31</td>\n",
       "      <td>05:40:53</td>\n",
       "      <td>25980</td>\n",
       "    </tr>\n",
       "    <tr>\n",
       "      <th>11403</th>\n",
       "      <td>F</td>\n",
       "      <td>51</td>\n",
       "      <td>03:38:15</td>\n",
       "      <td>11409</td>\n",
       "    </tr>\n",
       "    <tr>\n",
       "      <th>25246</th>\n",
       "      <td>M</td>\n",
       "      <td>50</td>\n",
       "      <td>05:21:09</td>\n",
       "      <td>25256</td>\n",
       "    </tr>\n",
       "    <tr>\n",
       "      <th>8855</th>\n",
       "      <td>M</td>\n",
       "      <td>52</td>\n",
       "      <td>03:28:41</td>\n",
       "      <td>8860</td>\n",
       "    </tr>\n",
       "  </tbody>\n",
       "</table>\n",
       "</div>"
      ],
      "text/plain": [
       "      gender age official_time place_overall\n",
       "12825      M  52      03:43:45         12832\n",
       "25970      F  31      05:40:53         25980\n",
       "11403      F  51      03:38:15         11409\n",
       "25246      M  50      05:21:09         25256\n",
       "8855       M  52      03:28:41          8860"
      ]
     },
     "execution_count": 9,
     "metadata": {},
     "output_type": "execute_result"
    }
   ],
   "source": [
    "marathonSample.head()"
   ]
  },
  {
   "cell_type": "code",
   "execution_count": 10,
   "metadata": {},
   "outputs": [
    {
     "data": {
      "text/html": [
       "<div>\n",
       "<style scoped>\n",
       "    .dataframe tbody tr th:only-of-type {\n",
       "        vertical-align: middle;\n",
       "    }\n",
       "\n",
       "    .dataframe tbody tr th {\n",
       "        vertical-align: top;\n",
       "    }\n",
       "\n",
       "    .dataframe thead th {\n",
       "        text-align: right;\n",
       "    }\n",
       "</style>\n",
       "<table border=\"1\" class=\"dataframe\">\n",
       "  <thead>\n",
       "    <tr style=\"text-align: right;\">\n",
       "      <th></th>\n",
       "      <th>gender</th>\n",
       "      <th>age</th>\n",
       "      <th>official_time</th>\n",
       "      <th>place_overall</th>\n",
       "    </tr>\n",
       "  </thead>\n",
       "  <tbody>\n",
       "    <tr>\n",
       "      <th>12339</th>\n",
       "      <td>F</td>\n",
       "      <td>34</td>\n",
       "      <td>03:41:58</td>\n",
       "      <td>12346</td>\n",
       "    </tr>\n",
       "    <tr>\n",
       "      <th>3933</th>\n",
       "      <td>F</td>\n",
       "      <td>20</td>\n",
       "      <td>03:07:49</td>\n",
       "      <td>3936</td>\n",
       "    </tr>\n",
       "    <tr>\n",
       "      <th>4219</th>\n",
       "      <td>M</td>\n",
       "      <td>35</td>\n",
       "      <td>03:09:17</td>\n",
       "      <td>4222</td>\n",
       "    </tr>\n",
       "    <tr>\n",
       "      <th>20794</th>\n",
       "      <td>M</td>\n",
       "      <td>58</td>\n",
       "      <td>04:24:51</td>\n",
       "      <td>20803</td>\n",
       "    </tr>\n",
       "    <tr>\n",
       "      <th>15810</th>\n",
       "      <td>F</td>\n",
       "      <td>27</td>\n",
       "      <td>03:55:24</td>\n",
       "      <td>15817</td>\n",
       "    </tr>\n",
       "  </tbody>\n",
       "</table>\n",
       "</div>"
      ],
      "text/plain": [
       "      gender age official_time place_overall\n",
       "12339      F  34      03:41:58         12346\n",
       "3933       F  20      03:07:49          3936\n",
       "4219       M  35      03:09:17          4222\n",
       "20794      M  58      04:24:51         20803\n",
       "15810      F  27      03:55:24         15817"
      ]
     },
     "execution_count": 10,
     "metadata": {},
     "output_type": "execute_result"
    }
   ],
   "source": [
    "marathonSample.tail()"
   ]
  },
  {
   "cell_type": "markdown",
   "metadata": {},
   "source": [
    "## Sample creation <a name=\"samplecreation\"></a>\n",
    "\n",
    "The random sample of 1000 entrants from the large dataset was created using `pandas.DataFrame.sample`.[[7]](https://pandas.pydata.org/pandas-docs/stable/reference/api/pandas.DataFrame.sample.html) It returns a random sample of items from an axis of object.\n",
    "\n",
    "\n",
    "## Clean up data at source <a name=\"cleaningup\"></a>\n",
    "\n",
    "After an initial look at the sample it seemed as if there had been an error in data entry. A name had been entered as a gender. \n",
    "\n",
    "The incorrect data was removed from the csv file and the data set was rerun.\n"
   ]
  },
  {
   "cell_type": "markdown",
   "metadata": {},
   "source": [
    "## Set data types <a name=\"setdatatypes\"></a>\n",
    "\n",
    "dtypes\n",
    "\n",
    "Checked using `marathonSample.dtypes` which return the dtypes in the DataFrame. [[9]](https://pandas.pydata.org/pandas-docs/stable/reference/api/pandas.DataFrame.dtypes.html)\n",
    "\n",
    "\n",
    "* **gender**\n",
    "\n",
    "    \"gender\" will be left as an object as it is either \"M\" or \"F\"\n",
    "\n",
    "\n",
    "* **age & place_overall**\n",
    "\n",
    "    Both set as integers. \n",
    "    <br>\n",
    "\n",
    "* **Official time**\n",
    "\n",
    "    Timedeltas are absolute differences in times, expressed in difference units (e.g. days, hours, minutes, seconds). This method converts an argument from a recognized timedelta format / value into a Timedelta type.\n",
    "\n",
    "    Convert \"official_time\" to `timedelta64[ns]` using  `pandas.to_timedelta.` [[8]](https://pandas.pydata.org/pandas-docs/stable/reference/api/pandas.to_timedelta.html)\n",
    "\n",
    "    This allows the time to be treated as a duration in minutes, making it easier to graph. \n"
   ]
  },
  {
   "cell_type": "code",
   "execution_count": 11,
   "metadata": {},
   "outputs": [
    {
     "data": {
      "text/plain": [
       "gender           object\n",
       "age              object\n",
       "official_time    object\n",
       "place_overall    object\n",
       "dtype: object"
      ]
     },
     "execution_count": 11,
     "metadata": {},
     "output_type": "execute_result"
    }
   ],
   "source": [
    "# Check data types\n",
    "marathonSample.dtypes"
   ]
  },
  {
   "cell_type": "code",
   "execution_count": 12,
   "metadata": {},
   "outputs": [],
   "source": [
    "# using dictionary to convert specific columns \n",
    "convert_dict = {'gender': str,'age': int, \"place_overall\" : int,\n",
    "               }   \n",
    "marathonSample = marathonSample.astype(convert_dict) "
   ]
  },
  {
   "cell_type": "code",
   "execution_count": 13,
   "metadata": {},
   "outputs": [
    {
     "data": {
      "text/plain": [
       "gender                    object\n",
       "age                        int32\n",
       "official_time    timedelta64[ns]\n",
       "place_overall              int32\n",
       "dtype: object"
      ]
     },
     "execution_count": 13,
     "metadata": {},
     "output_type": "execute_result"
    }
   ],
   "source": [
    "# Convert official time to timedelta64\n",
    "marathonSample[\"official_time\"] = pd.to_timedelta(marathonSample[\"official_time\"], unit='m')\n",
    "marathonSample.dtypes"
   ]
  },
  {
   "cell_type": "code",
   "execution_count": 14,
   "metadata": {},
   "outputs": [],
   "source": [
    "# Convert hours:minutes:seconds to total minutes\n",
    "s = marathonSample[\"official_time\"]\n",
    "\n",
    "mins = s.dt.total_seconds()/60\n",
    "marathonSample[\"official_time\"] = mins"
   ]
  },
  {
   "cell_type": "markdown",
   "metadata": {},
   "source": [
    "### Total minutes \n",
    "\n",
    "To convert the \"official_time\" to minutes the array must be passed into `Series.dt`. \n",
    "[[12]](https://pandas.pydata.org/docs/reference/series.html#datetimelike-properties) It can be used to access the values of the series as datetimelike and return several properties. \n",
    "\n",
    "It then can call the `total_seconds`[[11]](https://pandas.pydata.org/pandas-docs/stable/reference/api/pandas.Timedelta.total_seconds.html) command to convert the values to seconds. It was then divided my 60 to give minutes. \n",
    "\n",
    "The method was found on stackoverflow. [[10]](https://stackoverflow.com/questions/26456825/convert-timedelta64ns-column-to-seconds-in-python-pandas-dataframe)\n",
    "\n",
    "\n",
    "\n",
    "\n"
   ]
  },
  {
   "cell_type": "code",
   "execution_count": 15,
   "metadata": {},
   "outputs": [
    {
     "data": {
      "text/html": [
       "<div>\n",
       "<style scoped>\n",
       "    .dataframe tbody tr th:only-of-type {\n",
       "        vertical-align: middle;\n",
       "    }\n",
       "\n",
       "    .dataframe tbody tr th {\n",
       "        vertical-align: top;\n",
       "    }\n",
       "\n",
       "    .dataframe thead th {\n",
       "        text-align: right;\n",
       "    }\n",
       "</style>\n",
       "<table border=\"1\" class=\"dataframe\">\n",
       "  <thead>\n",
       "    <tr style=\"text-align: right;\">\n",
       "      <th></th>\n",
       "      <th>gender</th>\n",
       "      <th>age</th>\n",
       "      <th>official_time</th>\n",
       "      <th>place_overall</th>\n",
       "    </tr>\n",
       "  </thead>\n",
       "  <tbody>\n",
       "    <tr>\n",
       "      <th>12825</th>\n",
       "      <td>M</td>\n",
       "      <td>52</td>\n",
       "      <td>223.750000</td>\n",
       "      <td>12832</td>\n",
       "    </tr>\n",
       "    <tr>\n",
       "      <th>25970</th>\n",
       "      <td>F</td>\n",
       "      <td>31</td>\n",
       "      <td>340.883333</td>\n",
       "      <td>25980</td>\n",
       "    </tr>\n",
       "    <tr>\n",
       "      <th>11403</th>\n",
       "      <td>F</td>\n",
       "      <td>51</td>\n",
       "      <td>218.250000</td>\n",
       "      <td>11409</td>\n",
       "    </tr>\n",
       "    <tr>\n",
       "      <th>25246</th>\n",
       "      <td>M</td>\n",
       "      <td>50</td>\n",
       "      <td>321.150000</td>\n",
       "      <td>25256</td>\n",
       "    </tr>\n",
       "    <tr>\n",
       "      <th>8855</th>\n",
       "      <td>M</td>\n",
       "      <td>52</td>\n",
       "      <td>208.683333</td>\n",
       "      <td>8860</td>\n",
       "    </tr>\n",
       "    <tr>\n",
       "      <th>...</th>\n",
       "      <td>...</td>\n",
       "      <td>...</td>\n",
       "      <td>...</td>\n",
       "      <td>...</td>\n",
       "    </tr>\n",
       "    <tr>\n",
       "      <th>12339</th>\n",
       "      <td>F</td>\n",
       "      <td>34</td>\n",
       "      <td>221.966667</td>\n",
       "      <td>12346</td>\n",
       "    </tr>\n",
       "    <tr>\n",
       "      <th>3933</th>\n",
       "      <td>F</td>\n",
       "      <td>20</td>\n",
       "      <td>187.816667</td>\n",
       "      <td>3936</td>\n",
       "    </tr>\n",
       "    <tr>\n",
       "      <th>4219</th>\n",
       "      <td>M</td>\n",
       "      <td>35</td>\n",
       "      <td>189.283333</td>\n",
       "      <td>4222</td>\n",
       "    </tr>\n",
       "    <tr>\n",
       "      <th>20794</th>\n",
       "      <td>M</td>\n",
       "      <td>58</td>\n",
       "      <td>264.850000</td>\n",
       "      <td>20803</td>\n",
       "    </tr>\n",
       "    <tr>\n",
       "      <th>15810</th>\n",
       "      <td>F</td>\n",
       "      <td>27</td>\n",
       "      <td>235.400000</td>\n",
       "      <td>15817</td>\n",
       "    </tr>\n",
       "  </tbody>\n",
       "</table>\n",
       "<p>1000 rows × 4 columns</p>\n",
       "</div>"
      ],
      "text/plain": [
       "      gender  age  official_time  place_overall\n",
       "12825      M   52     223.750000          12832\n",
       "25970      F   31     340.883333          25980\n",
       "11403      F   51     218.250000          11409\n",
       "25246      M   50     321.150000          25256\n",
       "8855       M   52     208.683333           8860\n",
       "...      ...  ...            ...            ...\n",
       "12339      F   34     221.966667          12346\n",
       "3933       F   20     187.816667           3936\n",
       "4219       M   35     189.283333           4222\n",
       "20794      M   58     264.850000          20803\n",
       "15810      F   27     235.400000          15817\n",
       "\n",
       "[1000 rows x 4 columns]"
      ]
     },
     "execution_count": 15,
     "metadata": {},
     "output_type": "execute_result"
    }
   ],
   "source": [
    "marathonSample"
   ]
  },
  {
   "cell_type": "markdown",
   "metadata": {},
   "source": [
    "\n",
    "\n",
    "\n",
    "\n",
    "----------------------------------"
   ]
  },
  {
   "cell_type": "markdown",
   "metadata": {},
   "source": [
    "# 4. Data sample analysis <a name=\"datasample\"></a>\n",
    "\n"
   ]
  },
  {
   "cell_type": "markdown",
   "metadata": {},
   "source": [
    "## Summary <a name=\"datasamplesummary\"></a>\n",
    "\n",
    "The summary of the data below is provided by `marathonSample.describe()`. It \n",
    "[[13]](https://pandas.pydata.org/pandas-docs/stable/reference/api/pandas.DataFrame.describe.html)"
   ]
  },
  {
   "cell_type": "code",
   "execution_count": 16,
   "metadata": {},
   "outputs": [
    {
     "data": {
      "text/html": [
       "<div>\n",
       "<style scoped>\n",
       "    .dataframe tbody tr th:only-of-type {\n",
       "        vertical-align: middle;\n",
       "    }\n",
       "\n",
       "    .dataframe tbody tr th {\n",
       "        vertical-align: top;\n",
       "    }\n",
       "\n",
       "    .dataframe thead th {\n",
       "        text-align: right;\n",
       "    }\n",
       "</style>\n",
       "<table border=\"1\" class=\"dataframe\">\n",
       "  <thead>\n",
       "    <tr style=\"text-align: right;\">\n",
       "      <th></th>\n",
       "      <th>age</th>\n",
       "      <th>official_time</th>\n",
       "      <th>place_overall</th>\n",
       "    </tr>\n",
       "  </thead>\n",
       "  <tbody>\n",
       "    <tr>\n",
       "      <th>count</th>\n",
       "      <td>1000.00000</td>\n",
       "      <td>1000.000000</td>\n",
       "      <td>1000.000000</td>\n",
       "    </tr>\n",
       "    <tr>\n",
       "      <th>mean</th>\n",
       "      <td>42.62000</td>\n",
       "      <td>234.196067</td>\n",
       "      <td>13382.779000</td>\n",
       "    </tr>\n",
       "    <tr>\n",
       "      <th>std</th>\n",
       "      <td>11.28623</td>\n",
       "      <td>46.865883</td>\n",
       "      <td>7935.808876</td>\n",
       "    </tr>\n",
       "    <tr>\n",
       "      <th>min</th>\n",
       "      <td>19.00000</td>\n",
       "      <td>146.833333</td>\n",
       "      <td>58.000000</td>\n",
       "    </tr>\n",
       "    <tr>\n",
       "      <th>25%</th>\n",
       "      <td>34.00000</td>\n",
       "      <td>198.354167</td>\n",
       "      <td>6163.500000</td>\n",
       "    </tr>\n",
       "    <tr>\n",
       "      <th>50%</th>\n",
       "      <td>43.00000</td>\n",
       "      <td>225.300000</td>\n",
       "      <td>13253.500000</td>\n",
       "    </tr>\n",
       "    <tr>\n",
       "      <th>75%</th>\n",
       "      <td>51.00000</td>\n",
       "      <td>263.345833</td>\n",
       "      <td>20599.000000</td>\n",
       "    </tr>\n",
       "    <tr>\n",
       "      <th>max</th>\n",
       "      <td>77.00000</td>\n",
       "      <td>395.833333</td>\n",
       "      <td>26648.000000</td>\n",
       "    </tr>\n",
       "  </tbody>\n",
       "</table>\n",
       "</div>"
      ],
      "text/plain": [
       "              age  official_time  place_overall\n",
       "count  1000.00000    1000.000000    1000.000000\n",
       "mean     42.62000     234.196067   13382.779000\n",
       "std      11.28623      46.865883    7935.808876\n",
       "min      19.00000     146.833333      58.000000\n",
       "25%      34.00000     198.354167    6163.500000\n",
       "50%      43.00000     225.300000   13253.500000\n",
       "75%      51.00000     263.345833   20599.000000\n",
       "max      77.00000     395.833333   26648.000000"
      ]
     },
     "execution_count": 16,
     "metadata": {},
     "output_type": "execute_result"
    }
   ],
   "source": [
    "# Summary of data\n",
    "marathonSample.describe()"
   ]
  },
  {
   "cell_type": "markdown",
   "metadata": {},
   "source": [
    "# References <a name=\"references\"></a>\n",
    "\n",
    "[1] Boston Marathon; Wikipedia; https://en.wikipedia.org/wiki/Boston_Marathon\n",
    "\n",
    "[2] Boston-Marathon-Data-Project; Adrian Hanft; github;  https://github.com/adrian3/Boston-Marathon-Data-Project\n",
    "\n",
    "[3] Marathon; Wikipedia; https://en.wikipedia.org/wiki/Marathon\n",
    "\n",
    "[4] Qualify for the Boston marathon; baa.org;  https://www.baa.org/races/boston-marathon/qualify\n",
    "\n",
    "[5] markdown-to-create-pages-and-table-of-contents; stack overflow;  https://stackoverflow.com/questions/11948245/markdown-to-create-pages-and-table-of-contents/33433098#33433098\n",
    "\n",
    "[6] Input/output; the pandas development team; https://pandas.pydata.org/pandas-docs/stable/reference/io.html\n",
    "\n",
    "[7] pandas.DataFrame.sample; the pandas development team; https://pandas.pydata.org/pandas-docs/stable/reference/api/pandas.DataFrame.sample.html\n",
    "\n",
    "[8] pandas.to_timedelta; the pandas development team;(https://pandas.pydata.org/pandas-docs/stable/reference/api/pandas.to_timedelta.html)\n",
    "\n",
    "[9] pandas.DataFrame.dtypes; the pandas development team; https://pandas.pydata.org/pandas-docs/stable/reference/api/pandas.DataFrame.dtypes.html\n",
    "\n",
    "[10] convert-timedelta64ns-column-to-seconds-in-python-pandas-dataframe; stackoverflow; https://stackoverflow.com/questions/26456825/convert-timedelta64ns-column-to-seconds-in-python-pandas-dataframe\n",
    "\n",
    "[11] pandas.Timedelta.total_seconds; the pandas development team; https://pandas.pydata.org/pandas-docs/stable/reference/api/pandas.Timedelta.total_seconds.html \n",
    "\n",
    "[12] datetimelike-properties; the pandas development team; https://pandas.pydata.org/docs/reference/series.html#datetimelike-properties\n",
    "\n",
    "[13] pandas.DataFrame.describe; the pandas development team; https://pandas.pydata.org/pandas-docs/stable/reference/api/pandas.DataFrame.describe.html"
   ]
  },
  {
   "cell_type": "markdown",
   "metadata": {},
   "source": [
    "## Place Overall\n",
    "\n",
    "Place overall is directly determined by the time variable. The lower the time the lower the place.  \n",
    "\n",
    "In general Males finished with lower places than female. \n",
    "\n",
    "It has its use in ranking all of the finishers in order. "
   ]
  },
  {
   "cell_type": "code",
   "execution_count": 17,
   "metadata": {},
   "outputs": [
    {
     "data": {
      "text/plain": [
       "[]"
      ]
     },
     "execution_count": 17,
     "metadata": {},
     "output_type": "execute_result"
    },
    {
     "data": {
      "image/png": "[encoded data removed]",
      "text/plain": [
       "<Figure size 432x288 with 1 Axes>"
      ]
     },
     "metadata": {
      "needs_background": "light"
     },
     "output_type": "display_data"
    }
   ],
   "source": [
    "# Number of males finished in top 20% of race\n",
    "plt.plot()"
   ]
  },
  {
   "cell_type": "markdown",
   "metadata": {},
   "source": [
    "**Comments**\n",
    "\n",
    "\n",
    "\n",
    "------------------"
   ]
  },
  {
   "cell_type": "markdown",
   "metadata": {},
   "source": [
    "## Gender\n",
    "\n",
    "get info for simulating\n",
    "\n",
    "Distribution type\n",
    "\n",
    "Standard deviation\n",
    "\n",
    "Percentage of each etc."
   ]
  },
  {
   "cell_type": "code",
   "execution_count": 18,
   "metadata": {},
   "outputs": [
    {
     "data": {
      "text/plain": [
       "M                 14664\n",
       "F                 11980\n",
       "Fredericksburg        1\n",
       "62                    1\n",
       "Name: gender, dtype: int64"
      ]
     },
     "execution_count": 18,
     "metadata": {},
     "output_type": "execute_result"
    }
   ],
   "source": [
    "marathonData.gender.value_counts()"
   ]
  },
  {
   "cell_type": "code",
   "execution_count": 19,
   "metadata": {},
   "outputs": [
    {
     "data": {
      "text/plain": [
       "M    552\n",
       "F    448\n",
       "Name: gender, dtype: int64"
      ]
     },
     "execution_count": 19,
     "metadata": {},
     "output_type": "execute_result"
    }
   ],
   "source": [
    "# count male and female values\n",
    "marathonSample.gender.value_counts()"
   ]
  },
  {
   "cell_type": "code",
   "execution_count": 20,
   "metadata": {},
   "outputs": [
    {
     "data": {
      "text/plain": [
       "(array([552.,   0.,   0.,   0.,   0.,   0.,   0.,   0.,   0., 448.]),\n",
       " array([0. , 0.1, 0.2, 0.3, 0.4, 0.5, 0.6, 0.7, 0.8, 0.9, 1. ]),\n",
       " <a list of 10 Patch objects>)"
      ]
     },
     "execution_count": 20,
     "metadata": {},
     "output_type": "execute_result"
    },
    {
     "data": {
      "image/png": "[encoded data removed]",
      "text/plain": [
       "<Figure size 432x288 with 1 Axes>"
      ]
     },
     "metadata": {
      "needs_background": "light"
     },
     "output_type": "display_data"
    }
   ],
   "source": [
    "plt.hist(marathonSample[\"gender\"])"
   ]
  },
  {
   "cell_type": "markdown",
   "metadata": {},
   "source": [
    "**Comments**\n",
    "\n",
    "54.5% Male\n",
    "\n",
    "45.5% Female\n",
    "\n",
    "------------------"
   ]
  },
  {
   "cell_type": "markdown",
   "metadata": {},
   "source": [
    "## Time\n",
    "\n",
    "get info for simulating\n",
    "\n",
    "Distribution type\n",
    "\n",
    "Standard deviation\n",
    "\n",
    "Percentage of each etc.\n",
    "\n",
    " # Add labels to graph"
   ]
  },
  {
   "cell_type": "code",
   "execution_count": 21,
   "metadata": {},
   "outputs": [
    {
     "data": {
      "text/plain": [
       "(array([ 41., 188., 240., 189., 134.,  86.,  61.,  39.,  19.,   3.]),\n",
       " array([146.83333333, 171.73333333, 196.63333333, 221.53333333,\n",
       "        246.43333333, 271.33333333, 296.23333333, 321.13333333,\n",
       "        346.03333333, 370.93333333, 395.83333333]),\n",
       " <a list of 10 Patch objects>)"
      ]
     },
     "execution_count": 21,
     "metadata": {},
     "output_type": "execute_result"
    },
    {
     "data": {
      "image/png": "[encoded data removed]",
      "text/plain": [
       "<Figure size 432x288 with 1 Axes>"
      ]
     },
     "metadata": {
      "needs_background": "light"
     },
     "output_type": "display_data"
    }
   ],
   "source": [
    "plt.hist(marathonSample[\"official_time\"], bins=10)"
   ]
  },
  {
   "cell_type": "code",
   "execution_count": 22,
   "metadata": {},
   "outputs": [
    {
     "data": {
      "text/plain": [
       "46.842444642486846"
      ]
     },
     "execution_count": 22,
     "metadata": {},
     "output_type": "execute_result"
    }
   ],
   "source": [
    "# Calculate standard deviation\n",
    "np.std(marathonSample[\"official_time\"])"
   ]
  },
  {
   "cell_type": "markdown",
   "metadata": {},
   "source": [
    "**Comments**\n",
    "\n",
    "\n",
    "\n",
    "------------------"
   ]
  },
  {
   "cell_type": "markdown",
   "metadata": {},
   "source": [
    "## Age\n",
    "\n",
    "get info for simulating\n",
    "\n",
    "Distribution type\n",
    "\n",
    "Standard deviation\n",
    "\n",
    "Percentage of each etc."
   ]
  },
  {
   "cell_type": "code",
   "execution_count": 23,
   "metadata": {},
   "outputs": [
    {
     "data": {
      "text/plain": [
       "(array([ 48., 128., 142., 166., 170., 162., 112.,  55.,  14.,   3.]),\n",
       " array([19. , 24.8, 30.6, 36.4, 42.2, 48. , 53.8, 59.6, 65.4, 71.2, 77. ]),\n",
       " <a list of 10 Patch objects>)"
      ]
     },
     "execution_count": 23,
     "metadata": {},
     "output_type": "execute_result"
    },
    {
     "data": {
      "image/png": "[encoded data removed]",
      "text/plain": [
       "<Figure size 432x288 with 1 Axes>"
      ]
     },
     "metadata": {
      "needs_background": "light"
     },
     "output_type": "display_data"
    }
   ],
   "source": [
    "plt.hist(marathonSample[\"age\"])"
   ]
  },
  {
   "cell_type": "code",
   "execution_count": null,
   "metadata": {},
   "outputs": [],
   "source": []
  },
  {
   "cell_type": "markdown",
   "metadata": {},
   "source": [
    "**Comments**\n",
    "\n",
    "\n",
    "\n",
    "------------------"
   ]
  },
  {
   "cell_type": "markdown",
   "metadata": {},
   "source": [
    "# 5. Simulate Data\n",
    "------------------------\n",
    "\n",
    "\n",
    "What kind of data set do I want to create\n",
    "\n",
    "\n",
    "#### Galway Marathon 2020\n",
    "\n",
    "Number of entrants = 1000\n"
   ]
  },
  {
   "cell_type": "markdown",
   "metadata": {},
   "source": [
    "* ##  Time\n",
    "\n",
    "Do time simulation here\n",
    "\n",
    "------------------"
   ]
  },
  {
   "cell_type": "markdown",
   "metadata": {},
   "source": [
    "### Investigation\n",
    "\n",
    "--------------\n",
    "\n",
    "References from data outside of Boston data set.... compare.... decision\n",
    "\n",
    "### Type\n",
    "\n",
    "Integer from datetime\n",
    "In minutes for graph\n",
    "\n",
    "### Distribution\n",
    "\n",
    "\n",
    "Normal distribution\n",
    "\n",
    "\n",
    "### Relationship\n",
    "\n",
    "Directly influences position in race\n",
    "\n",
    "----------------"
   ]
  },
  {
   "cell_type": "code",
   "execution_count": 24,
   "metadata": {},
   "outputs": [],
   "source": [
    "from scipy.stats import truncnorm\n",
    "\n",
    "def get_truncated_normal(mean=0, sd=1, low=0, upp=10):\n",
    "    return truncnorm(\n",
    "        (low - mean) / sd, (upp - mean) / sd, loc=mean, scale=sd)\n"
   ]
  },
  {
   "cell_type": "markdown",
   "metadata": {},
   "source": [
    "Method found here https://stackoverflow.com/questions/36894191/how-to-get-a-normal-distribution-within-a-range-in-numpy/44308018"
   ]
  },
  {
   "cell_type": "code",
   "execution_count": 25,
   "metadata": {},
   "outputs": [],
   "source": [
    "# Set male times\n",
    "maleMarathonTime = get_truncated_normal(mean=263, sd=45, low=122, upp=400)\n",
    "maleTimes = maleMarathonTime.rvs(600)\n",
    "\n",
    "# Set female times.\n",
    "femaleMarathonTime = get_truncated_normal(mean=300, sd=60, low=134, upp=400)\n",
    "femaleTimes = femaleMarathonTime.rvs(400)"
   ]
  },
  {
   "cell_type": "markdown",
   "metadata": {},
   "source": [
    "##  Gender\n",
    "\n",
    " All gender simulation here\n",
    " \n",
    " \n",
    "-------------"
   ]
  },
  {
   "cell_type": "markdown",
   "metadata": {},
   "source": [
    "\n",
    "### Investigation\n",
    "\n",
    "\n",
    "\n",
    "\n",
    "# average finishing times + world records\n",
    "\n",
    "Male = 4:23:27 = 263mins\n",
    "Female =  The average marathon female finish time in the UK is 5:00:39. = 300mins [[average]](https://www.runnersworld.com/uk/training/marathon/a27787958/average-marathon-finish-time/)\n",
    "\n",
    "#### World records\n",
    "\n",
    "Male - Eliud Kipchoge (Kenya) 2:01:39Time  - 4:38.4 Pace per mile -   Berlin, 2018 - 121.39mins\n",
    "https://www.runnersworld.com/races-places/a20823734/these-are-the-worlds-fastest-marathoners-and-marathon-courses/\n",
    "\n",
    "Female - Brigid Kosgei (Kenya) - 2:14:04 Time - 5:06.8 Pace - Chicago, 2019 = 134.04 mis\n",
    "\n",
    "\n",
    "### Type\n",
    "\n",
    "\n",
    "\n",
    "\n",
    "\n",
    "### Distribution\n",
    "\n",
    "\n",
    "\n",
    "\n",
    "\n",
    "\n",
    "### Relationship\n",
    "\n",
    "\n",
    "\n"
   ]
  },
  {
   "cell_type": "code",
   "execution_count": 26,
   "metadata": {},
   "outputs": [
    {
     "data": {
      "image/png": "[encoded data removed]",
      "text/plain": [
       "<Figure size 432x288 with 1 Axes>"
      ]
     },
     "metadata": {
      "needs_background": "light"
     },
     "output_type": "display_data"
    }
   ],
   "source": [
    "import pandas as pd\n",
    "\n",
    "\n",
    "femaleMarathon = pd.Series(femaleTimes) # https://pandas.pydata.org/pandas-docs/stable/reference/api/pandas.Series.html\n",
    "maleMarathon = pd.Series(maleTimes)\n",
    "\n",
    "\n",
    "femaleMarathon.plot.hist(grid=True, bins=20, rwidth=10, color='blue', label=\"Female Runners\", alpha=0.5)\n",
    "\n",
    "maleMarathon.plot.hist(grid=True, bins=20, rwidth=10, color='green', label=\"Male Runners\", alpha=0.5)\n",
    "\n",
    "plt.title('Marathon Times for 1,000 runners')\n",
    "plt.ylabel('Counts')\n",
    "plt.xlabel('Marathon Time (mins)')\n",
    "plt.legend(loc=\"best\")\n",
    "plt.grid(axis='y', alpha=0.75)"
   ]
  },
  {
   "cell_type": "code",
   "execution_count": 27,
   "metadata": {},
   "outputs": [
    {
     "data": {
      "text/plain": [
       "4.166666666666667"
      ]
     },
     "execution_count": 27,
     "metadata": {},
     "output_type": "execute_result"
    }
   ],
   "source": [
    "250/60"
   ]
  },
  {
   "cell_type": "markdown",
   "metadata": {},
   "source": [
    "standard deviation\n",
    "https://runrepeat.com/women-are-better-runners-than-men-2020"
   ]
  },
  {
   "cell_type": "markdown",
   "metadata": {},
   "source": [
    "Graph here [[]](https://realpython.com/python-histograms/)"
   ]
  },
  {
   "cell_type": "markdown",
   "metadata": {},
   "source": [
    "##   Age\n",
    "\n",
    "All age here\n",
    "\n",
    "_______________"
   ]
  },
  {
   "cell_type": "markdown",
   "metadata": {},
   "source": [
    "### Investigation \n",
    "\n",
    "Find average ages info\n",
    "\n",
    "take info from boston\n",
    "\n",
    "take info from Galway previously (sources)\n",
    "\n",
    "### Type\n",
    "\n",
    "Integer\n",
    "\n",
    "\n",
    "### Distribution\n",
    "\n",
    "Normal - \n",
    "\n",
    "\n",
    "\n",
    "### Relationship\n",
    "\n",
    "\n"
   ]
  },
  {
   "cell_type": "markdown",
   "metadata": {},
   "source": [
    "#### Set ages for each gender"
   ]
  },
  {
   "cell_type": "code",
   "execution_count": 28,
   "metadata": {},
   "outputs": [],
   "source": [
    "# Set male ages\n",
    "maleMarathonAges = get_truncated_normal(mean=35, sd=10, low=18, upp=75)\n",
    "maleAges = maleMarathonAges.rvs(600)\n",
    "\n",
    "# Set female ages\n",
    "femaleMarathonAges = get_truncated_normal(mean=35, sd=10, low=17, upp=75)\n",
    "femaleAges = femaleMarathonAges.rvs(400)"
   ]
  },
  {
   "cell_type": "code",
   "execution_count": 29,
   "metadata": {},
   "outputs": [
    {
     "data": {
      "image/png": "[encoded data removed]",
      "text/plain": [
       "<Figure size 432x288 with 1 Axes>"
      ]
     },
     "metadata": {
      "needs_background": "light"
     },
     "output_type": "display_data"
    }
   ],
   "source": [
    "femaleAgesMar = pd.Series(femaleAges) # https://pandas.pydata.org/pandas-docs/stable/reference/api/pandas.Series.html\n",
    "maleAgesMar = pd.Series(maleAges)\n",
    "\n",
    "femaleAgesMar.plot.hist(grid=True, bins=20, rwidth=10, color='blue', label=\"Female Runners\", alpha=0.5)\n",
    "\n",
    "maleAgesMar.plot.hist(grid=True, bins=20, rwidth=10, color='green', label=\"Male Runners\", alpha=0.5)\n",
    "\n",
    "plt.title('Ages of runners for 1,000 runners')\n",
    "plt.ylabel('Counts')\n",
    "plt.xlabel('Age of runner')\n",
    "plt.legend(loc=\"best\")\n",
    "plt.grid(axis='y', alpha=0.75)"
   ]
  },
  {
   "cell_type": "markdown",
   "metadata": {},
   "source": [
    "# 6. Create Dataframe - combine data"
   ]
  },
  {
   "cell_type": "markdown",
   "metadata": {},
   "source": [
    "### Add gender column"
   ]
  },
  {
   "cell_type": "code",
   "execution_count": 30,
   "metadata": {},
   "outputs": [
    {
     "data": {
      "text/plain": [
       "array(['F', 'F', 'F', 'F', 'F', 'F', 'F', 'F', 'F', 'F', 'F', 'F', 'F',\n",
       "       'F', 'F', 'F', 'F', 'F', 'F', 'F', 'F', 'F', 'F', 'F', 'F', 'F',\n",
       "       'F', 'F', 'F', 'F', 'F', 'F', 'F', 'F', 'F', 'F', 'F', 'F', 'F',\n",
       "       'F', 'F', 'F', 'F', 'F', 'F', 'F', 'F', 'F', 'F', 'F', 'F', 'F',\n",
       "       'F', 'F', 'F', 'F', 'F', 'F', 'F', 'F', 'F', 'F', 'F', 'F', 'F',\n",
       "       'F', 'F', 'F', 'F', 'F', 'F', 'F', 'F', 'F', 'F', 'F', 'F', 'F',\n",
       "       'F', 'F', 'F', 'F', 'F', 'F', 'F', 'F', 'F', 'F', 'F', 'F', 'F',\n",
       "       'F', 'F', 'F', 'F', 'F', 'F', 'F', 'F', 'F', 'F', 'F', 'F', 'F',\n",
       "       'F', 'F', 'F', 'F', 'F', 'F', 'F', 'F', 'F', 'F', 'F', 'F', 'F',\n",
       "       'F', 'F', 'F', 'F', 'F', 'F', 'F', 'F', 'F', 'F', 'F', 'F', 'F',\n",
       "       'F', 'F', 'F', 'F', 'F', 'F', 'F', 'F', 'F', 'F', 'F', 'F', 'F',\n",
       "       'F', 'F', 'F', 'F', 'F', 'F', 'F', 'F', 'F', 'F', 'F', 'F', 'F',\n",
       "       'F', 'F', 'F', 'F', 'F', 'F', 'F', 'F', 'F', 'F', 'F', 'F', 'F',\n",
       "       'F', 'F', 'F', 'F', 'F', 'F', 'F', 'F', 'F', 'F', 'F', 'F', 'F',\n",
       "       'F', 'F', 'F', 'F', 'F', 'F', 'F', 'F', 'F', 'F', 'F', 'F', 'F',\n",
       "       'F', 'F', 'F', 'F', 'F', 'F', 'F', 'F', 'F', 'F', 'F', 'F', 'F',\n",
       "       'F', 'F', 'F', 'F', 'F', 'F', 'F', 'F', 'F', 'F', 'F', 'F', 'F',\n",
       "       'F', 'F', 'F', 'F', 'F', 'F', 'F', 'F', 'F', 'F', 'F', 'F', 'F',\n",
       "       'F', 'F', 'F', 'F', 'F', 'F', 'F', 'F', 'F', 'F', 'F', 'F', 'F',\n",
       "       'F', 'F', 'F', 'F', 'F', 'F', 'F', 'F', 'F', 'F', 'F', 'F', 'F',\n",
       "       'F', 'F', 'F', 'F', 'F', 'F', 'F', 'F', 'F', 'F', 'F', 'F', 'F',\n",
       "       'F', 'F', 'F', 'F', 'F', 'F', 'F', 'F', 'F', 'F', 'F', 'F', 'F',\n",
       "       'F', 'F', 'F', 'F', 'F', 'F', 'F', 'F', 'F', 'F', 'F', 'F', 'F',\n",
       "       'F', 'F', 'F', 'F', 'F', 'F', 'F', 'F', 'F', 'F', 'F', 'F', 'F',\n",
       "       'F', 'F', 'F', 'F', 'F', 'F', 'F', 'F', 'F', 'F', 'F', 'F', 'F',\n",
       "       'F', 'F', 'F', 'F', 'F', 'F', 'F', 'F', 'F', 'F', 'F', 'F', 'F',\n",
       "       'F', 'F', 'F', 'F', 'F', 'F', 'F', 'F', 'F', 'F', 'F', 'F', 'F',\n",
       "       'F', 'F', 'F', 'F', 'F', 'F', 'F', 'F', 'F', 'F', 'F', 'F', 'F',\n",
       "       'F', 'F', 'F', 'F', 'F', 'F', 'F', 'F', 'F', 'F', 'F', 'F', 'F',\n",
       "       'F', 'F', 'F', 'F', 'F', 'F', 'F', 'F', 'F', 'F', 'F', 'F', 'F',\n",
       "       'F', 'F', 'F', 'F', 'F', 'F', 'F', 'F', 'F', 'F'], dtype=object)"
      ]
     },
     "execution_count": 30,
     "metadata": {},
     "output_type": "execute_result"
    }
   ],
   "source": [
    "FGender = np.full(shape=400, fill_value=\"F\", dtype=np.dtype(object))\n",
    "\n",
    "FGender\n",
    "#femaleMarathon"
   ]
  },
  {
   "cell_type": "markdown",
   "metadata": {},
   "source": [
    "### Combine all gendered data"
   ]
  },
  {
   "cell_type": "code",
   "execution_count": 31,
   "metadata": {},
   "outputs": [
    {
     "data": {
      "text/html": [
       "<div>\n",
       "<style scoped>\n",
       "    .dataframe tbody tr th:only-of-type {\n",
       "        vertical-align: middle;\n",
       "    }\n",
       "\n",
       "    .dataframe tbody tr th {\n",
       "        vertical-align: top;\n",
       "    }\n",
       "\n",
       "    .dataframe thead th {\n",
       "        text-align: right;\n",
       "    }\n",
       "</style>\n",
       "<table border=\"1\" class=\"dataframe\">\n",
       "  <thead>\n",
       "    <tr style=\"text-align: right;\">\n",
       "      <th></th>\n",
       "      <th>Time</th>\n",
       "      <th>Gender</th>\n",
       "      <th>Age</th>\n",
       "    </tr>\n",
       "  </thead>\n",
       "  <tbody>\n",
       "    <tr>\n",
       "      <th>0</th>\n",
       "      <td>247.545622</td>\n",
       "      <td>F</td>\n",
       "      <td>38.0</td>\n",
       "    </tr>\n",
       "    <tr>\n",
       "      <th>1</th>\n",
       "      <td>358.126162</td>\n",
       "      <td>F</td>\n",
       "      <td>31.0</td>\n",
       "    </tr>\n",
       "    <tr>\n",
       "      <th>2</th>\n",
       "      <td>356.538116</td>\n",
       "      <td>F</td>\n",
       "      <td>30.0</td>\n",
       "    </tr>\n",
       "    <tr>\n",
       "      <th>3</th>\n",
       "      <td>343.764781</td>\n",
       "      <td>F</td>\n",
       "      <td>28.0</td>\n",
       "    </tr>\n",
       "    <tr>\n",
       "      <th>4</th>\n",
       "      <td>396.876452</td>\n",
       "      <td>F</td>\n",
       "      <td>25.0</td>\n",
       "    </tr>\n",
       "    <tr>\n",
       "      <th>...</th>\n",
       "      <td>...</td>\n",
       "      <td>...</td>\n",
       "      <td>...</td>\n",
       "    </tr>\n",
       "    <tr>\n",
       "      <th>395</th>\n",
       "      <td>320.455147</td>\n",
       "      <td>F</td>\n",
       "      <td>59.0</td>\n",
       "    </tr>\n",
       "    <tr>\n",
       "      <th>396</th>\n",
       "      <td>314.075851</td>\n",
       "      <td>F</td>\n",
       "      <td>29.0</td>\n",
       "    </tr>\n",
       "    <tr>\n",
       "      <th>397</th>\n",
       "      <td>244.091309</td>\n",
       "      <td>F</td>\n",
       "      <td>23.0</td>\n",
       "    </tr>\n",
       "    <tr>\n",
       "      <th>398</th>\n",
       "      <td>202.489610</td>\n",
       "      <td>F</td>\n",
       "      <td>50.0</td>\n",
       "    </tr>\n",
       "    <tr>\n",
       "      <th>399</th>\n",
       "      <td>242.390703</td>\n",
       "      <td>F</td>\n",
       "      <td>30.0</td>\n",
       "    </tr>\n",
       "  </tbody>\n",
       "</table>\n",
       "<p>400 rows × 3 columns</p>\n",
       "</div>"
      ],
      "text/plain": [
       "           Time Gender   Age\n",
       "0    247.545622      F  38.0\n",
       "1    358.126162      F  31.0\n",
       "2    356.538116      F  30.0\n",
       "3    343.764781      F  28.0\n",
       "4    396.876452      F  25.0\n",
       "..          ...    ...   ...\n",
       "395  320.455147      F  59.0\n",
       "396  314.075851      F  29.0\n",
       "397  244.091309      F  23.0\n",
       "398  202.489610      F  50.0\n",
       "399  242.390703      F  30.0\n",
       "\n",
       "[400 rows x 3 columns]"
      ]
     },
     "execution_count": 31,
     "metadata": {},
     "output_type": "execute_result"
    }
   ],
   "source": [
    "# Set as data frame and Add gender to df (https://www.geeksforgeeks.org/adding-new-column-to-existing-dataframe-in-pandas/)\n",
    "dfFemale = pd.DataFrame(femaleMarathon) \n",
    "dfFemale['Gender'] = FGender\n",
    "dfFemale['Age'] = femaleAges.round(0) #(https://stackoverflow.com/questions/61230535/how-to-round-the-column-mean-to-integer-in-a-dataframe-in-python)\n",
    "dfFemale = dfFemale.rename(columns={0: \"Time\"}) \n",
    "\n",
    "dfFemale"
   ]
  },
  {
   "cell_type": "code",
   "execution_count": 32,
   "metadata": {},
   "outputs": [
    {
     "ename": "SyntaxError",
     "evalue": "invalid syntax (<ipython-input-32-fcc315d67320>, line 10)",
     "output_type": "error",
     "traceback": [
      "\u001b[1;36m  File \u001b[1;32m\"<ipython-input-32-fcc315d67320>\"\u001b[1;36m, line \u001b[1;32m10\u001b[0m\n\u001b[1;33m    In [5]: result = pd.concat(frames)dfMale\u001b[0m\n\u001b[1;37m                                      ^\u001b[0m\n\u001b[1;31mSyntaxError\u001b[0m\u001b[1;31m:\u001b[0m invalid syntax\n"
     ]
    }
   ],
   "source": [
    "dfMale = pd.DataFrame(maleMarathon)\n",
    "\n",
    "Mgender = np.full(shape=600, fill_value=\"M\", dtype=np.dtype(object))\n",
    "dfMale['Gender'] = Mgender\n",
    "dfMale['Age'] = maleAges.round(0)\n",
    "dfMale = dfMale.rename(columns={0: \"Time\"}) \n",
    "\n",
    "frames = [df1, df2, df3]\n",
    "\n",
    "In [5]: result = pd.concat(frames)dfMale"
   ]
  },
  {
   "cell_type": "markdown",
   "metadata": {},
   "source": [
    "# Combine two data frames\n",
    "\n",
    "https://pandas.pydata.org/pandas-docs/stable/user_guide/merging.html"
   ]
  },
  {
   "cell_type": "code",
   "execution_count": null,
   "metadata": {},
   "outputs": [],
   "source": [
    "# Concationate data sets\n",
    "frames = [dfMale, dfFemale]\n",
    "df = pd.concat(frames)\n",
    "\n",
    "df"
   ]
  },
  {
   "cell_type": "markdown",
   "metadata": {},
   "source": [
    "https://towardsdatascience.com/half-marathon-finish-time-prediction-part-1-5807760033eb"
   ]
  },
  {
   "cell_type": "markdown",
   "metadata": {},
   "source": [
    "# Sort values\n",
    "    https://pandas.pydata.org/pandas-docs/stable/reference/api/pandas.DataFrame.sort_values.html"
   ]
  },
  {
   "cell_type": "code",
   "execution_count": null,
   "metadata": {},
   "outputs": [],
   "source": [
    "df = df.sort_values(by=['Time'])\n",
    "df\n"
   ]
  },
  {
   "cell_type": "markdown",
   "metadata": {},
   "source": [
    "### Investigation of Variables -  Place\n",
    "\n",
    "--------------\n",
    "\n",
    "\n",
    "### Type\n",
    "\n",
    "\n",
    "\n",
    "### Distribution\n",
    "\n",
    "Linear?\n",
    "\n",
    "### Relationship\n",
    "\n",
    "\n"
   ]
  },
  {
   "cell_type": "markdown",
   "metadata": {},
   "source": [
    "# Add new finish order"
   ]
  },
  {
   "cell_type": "code",
   "execution_count": null,
   "metadata": {},
   "outputs": [],
   "source": [
    "df"
   ]
  },
  {
   "cell_type": "markdown",
   "metadata": {},
   "source": [
    "https://stackoverflow.com/questions/42382263/valueerror-length-of-values-does-not-match-length-of-index-pandas-dataframe-u"
   ]
  },
  {
   "cell_type": "code",
   "execution_count": null,
   "metadata": {},
   "outputs": [],
   "source": [
    "df = df.apply(lambda col: col.reset_index(drop=True))"
   ]
  },
  {
   "cell_type": "code",
   "execution_count": null,
   "metadata": {},
   "outputs": [],
   "source": [
    "df.rename_axis(\"Place\", axis='index', inplace=True)"
   ]
  },
  {
   "cell_type": "markdown",
   "metadata": {},
   "source": [
    "# 7. Results: Simulated data set\n",
    "-----------------"
   ]
  },
  {
   "cell_type": "markdown",
   "metadata": {},
   "source": [
    "## Data Frame"
   ]
  },
  {
   "cell_type": "code",
   "execution_count": null,
   "metadata": {},
   "outputs": [],
   "source": [
    "df"
   ]
  },
  {
   "cell_type": "markdown",
   "metadata": {},
   "source": [
    "## Some graphs here"
   ]
  },
  {
   "cell_type": "code",
   "execution_count": null,
   "metadata": {},
   "outputs": [],
   "source": [
    "sns.pairplot(df)"
   ]
  },
  {
   "cell_type": "markdown",
   "metadata": {},
   "source": [
    "# 8. Conclusions\n",
    "\n",
    "-------------------\n",
    "\n"
   ]
  },
  {
   "cell_type": "markdown",
   "metadata": {},
   "source": [
    "## Discussion on data\n",
    "\n",
    "\n",
    "\n",
    "\n",
    "## Alternate Methods\n",
    "\n",
    "\n",
    "\n",
    "\n",
    "## Possible uses for data\n",
    "\n",
    "\n",
    "\n",
    "\n",
    "## Sources of error\n",
    "\n",
    "Male female stats\n",
    "distribution errors\n",
    "\n",
    "## Reccommended further study\n",
    "\n",
    "more time splitting up data - Gender/ age.... more people running\n"
   ]
  },
  {
   "cell_type": "markdown",
   "metadata": {},
   "source": [
    "# 9. References\n",
    "___________________________"
   ]
  },
  {
   "cell_type": "code",
   "execution_count": null,
   "metadata": {},
   "outputs": [],
   "source": []
  }
 ],
 "metadata": {
  "kernelspec": {
   "display_name": "Python 3",
   "language": "python",
   "name": "python3"
  },
  "language_info": {
   "codemirror_mode": {
    "name": "ipython",
    "version": 3
   },
   "file_extension": ".py",
   "mimetype": "text/x-python",
   "name": "python",
   "nbconvert_exporter": "python",
   "pygments_lexer": "ipython3",
   "version": "3.8.3"
  }
 },
 "nbformat": 4,
 "nbformat_minor": 4
}
